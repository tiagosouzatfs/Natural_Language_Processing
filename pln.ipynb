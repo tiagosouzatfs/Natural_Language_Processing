{
  "cells": [
    {
      "cell_type": "markdown",
      "metadata": {
        "id": "5KenfUgB-Av8"
      },
      "source": [
        "### Use resources of GPU to execute these work\n",
        "\n",
        "#### I used Ollama, llama 3.1 (8B parameters), running localhost, port 11434"
      ]
    },
    {
      "cell_type": "code",
      "execution_count": 1,
      "metadata": {
        "id": "ZRnAnSF9lGn9"
      },
      "outputs": [
        {
          "name": "stdout",
          "output_type": "stream",
          "text": [
            "Note: you may need to restart the kernel to use updated packages.\n"
          ]
        },
        {
          "name": "stderr",
          "output_type": "stream",
          "text": [
            "\n",
            "[notice] A new release of pip is available: 24.2 -> 24.3.1\n",
            "[notice] To update, run: python.exe -m pip install --upgrade pip\n"
          ]
        },
        {
          "name": "stdout",
          "output_type": "stream",
          "text": [
            "Note: you may need to restart the kernel to use updated packages.\n"
          ]
        },
        {
          "name": "stderr",
          "output_type": "stream",
          "text": [
            "\n",
            "[notice] A new release of pip is available: 24.2 -> 24.3.1\n",
            "[notice] To update, run: python.exe -m pip install --upgrade pip\n"
          ]
        },
        {
          "name": "stdout",
          "output_type": "stream",
          "text": [
            "Note: you may need to restart the kernel to use updated packages.\n"
          ]
        },
        {
          "name": "stderr",
          "output_type": "stream",
          "text": [
            "\n",
            "[notice] A new release of pip is available: 24.2 -> 24.3.1\n",
            "[notice] To update, run: python.exe -m pip install --upgrade pip\n"
          ]
        },
        {
          "name": "stdout",
          "output_type": "stream",
          "text": [
            "Note: you may need to restart the kernel to use updated packages.\n"
          ]
        },
        {
          "name": "stderr",
          "output_type": "stream",
          "text": [
            "\n",
            "[notice] A new release of pip is available: 24.2 -> 24.3.1\n",
            "[notice] To update, run: python.exe -m pip install --upgrade pip\n"
          ]
        },
        {
          "name": "stdout",
          "output_type": "stream",
          "text": [
            "Note: you may need to restart the kernel to use updated packages.\n"
          ]
        },
        {
          "name": "stderr",
          "output_type": "stream",
          "text": [
            "\n",
            "[notice] A new release of pip is available: 24.2 -> 24.3.1\n",
            "[notice] To update, run: python.exe -m pip install --upgrade pip\n"
          ]
        }
      ],
      "source": [
        "# Requeriments\n",
        "\n",
        "%pip install pandas --quiet\n",
        "%pip install langchain --quiet\n",
        "%pip install langchain-community --quiet\n",
        "%pip install colab-xterm --quiet\n",
        "%pip install langchain-ollama --quiet"
      ]
    },
    {
      "cell_type": "code",
      "execution_count": 3,
      "metadata": {
        "id": "8Fy_NDi2qV-w"
      },
      "outputs": [],
      "source": [
        "# Imports\n",
        "\n",
        "import sqlite3\n",
        "import pandas as pd\n",
        "\n",
        "from langchain_ollama import OllamaLLM\n",
        "from typing_extensions import TypedDict\n",
        "from langchain.prompts import PromptTemplate\n",
        "from langchain_community.utilities import SQLDatabase\n",
        "from langchain_community.tools.sql_database.tool import QuerySQLDatabaseTool"
      ]
    },
    {
      "cell_type": "code",
      "execution_count": 4,
      "metadata": {
        "id": "6duGyAvGEZeG"
      },
      "outputs": [],
      "source": [
        "# Create and/or connect in database\n",
        "\n",
        "conn = sqlite3.connect(\"./estatisticas_pix.db\")"
      ]
    },
    {
      "cell_type": "markdown",
      "metadata": {
        "id": "4uek8jHE1ZA0"
      },
      "source": [
        "## APRESENTAÇÃO E EXPLICAÇÃO DOS DADOS\n",
        "\n",
        "### Base de dados extraída do site do branco central:\n",
        "https://olinda.bcb.gov.br/olinda/servico/Pix_DadosAbertos/versao/v1/aplicacao#!/recursos\n",
        "\n",
        "---\n",
        "\n",
        "### Descrição:\n",
        "Quantidade e volume financeiro de transações Pix liquidadas mensalmente. Não inclui Pix liquidados nos livros do participante, isto é, transações não enviadas para liquidação no SPI. Apenas do mês de novembro de 2024.\n",
        "\n",
        "---"
      ]
    },
    {
      "cell_type": "code",
      "execution_count": 6,
      "metadata": {
        "id": "PQ6XVJA4ylou"
      },
      "outputs": [],
      "source": [
        "# Read csv with pandas\n",
        "\n",
        "df = pd.read_csv(\"./estatisticas_transacoes_pix.csv\", sep=\",\")"
      ]
    },
    {
      "cell_type": "code",
      "execution_count": 7,
      "metadata": {
        "colab": {
          "base_uri": "https://localhost:8080/",
          "height": 557
        },
        "id": "mxliqjOL0gIA",
        "outputId": "1106251f-deba-4abb-af36-ebbfcdd36159"
      },
      "outputs": [
        {
          "data": {
            "text/html": [
              "<div>\n",
              "<style scoped>\n",
              "    .dataframe tbody tr th:only-of-type {\n",
              "        vertical-align: middle;\n",
              "    }\n",
              "\n",
              "    .dataframe tbody tr th {\n",
              "        vertical-align: top;\n",
              "    }\n",
              "\n",
              "    .dataframe thead th {\n",
              "        text-align: right;\n",
              "    }\n",
              "</style>\n",
              "<table border=\"1\" class=\"dataframe\">\n",
              "  <thead>\n",
              "    <tr style=\"text-align: right;\">\n",
              "      <th></th>\n",
              "      <th>AnoMes</th>\n",
              "      <th>PAG_PFPJ</th>\n",
              "      <th>REC_PFPJ</th>\n",
              "      <th>PAG_REGIAO</th>\n",
              "      <th>REC_REGIAO</th>\n",
              "      <th>PAG_IDADE</th>\n",
              "      <th>REC_IDADE</th>\n",
              "      <th>FORMAINICIACAO</th>\n",
              "      <th>NATUREZA</th>\n",
              "      <th>FINALIDADE</th>\n",
              "      <th>VALOR</th>\n",
              "      <th>QUANTIDADE</th>\n",
              "    </tr>\n",
              "  </thead>\n",
              "  <tbody>\n",
              "    <tr>\n",
              "      <th>0</th>\n",
              "      <td>202411</td>\n",
              "      <td>PF</td>\n",
              "      <td>PJ</td>\n",
              "      <td>NORDESTE</td>\n",
              "      <td>NORTE</td>\n",
              "      <td>entre 30 e 39 anos</td>\n",
              "      <td>Nao se aplica</td>\n",
              "      <td>MANU</td>\n",
              "      <td>P2G</td>\n",
              "      <td>Pix</td>\n",
              "      <td>31488,37</td>\n",
              "      <td>5</td>\n",
              "    </tr>\n",
              "    <tr>\n",
              "      <th>1</th>\n",
              "      <td>202411</td>\n",
              "      <td>PF</td>\n",
              "      <td>PF</td>\n",
              "      <td>NORDESTE</td>\n",
              "      <td>SUDESTE</td>\n",
              "      <td>entre 50 e 59 anos</td>\n",
              "      <td>entre 40 e 49 anos</td>\n",
              "      <td>MANU</td>\n",
              "      <td>P2P</td>\n",
              "      <td>Pix</td>\n",
              "      <td>17702192,83</td>\n",
              "      <td>93119</td>\n",
              "    </tr>\n",
              "    <tr>\n",
              "      <th>2</th>\n",
              "      <td>202411</td>\n",
              "      <td>PF</td>\n",
              "      <td>PJ</td>\n",
              "      <td>SUDESTE</td>\n",
              "      <td>SUL</td>\n",
              "      <td>mais de 60 anos</td>\n",
              "      <td>Nao se aplica</td>\n",
              "      <td>DICT</td>\n",
              "      <td>P2G</td>\n",
              "      <td>Pix</td>\n",
              "      <td>21802,41</td>\n",
              "      <td>39</td>\n",
              "    </tr>\n",
              "    <tr>\n",
              "      <th>3</th>\n",
              "      <td>202411</td>\n",
              "      <td>PJ</td>\n",
              "      <td>PF</td>\n",
              "      <td>SUL</td>\n",
              "      <td>SUL</td>\n",
              "      <td>Nao se aplica</td>\n",
              "      <td>entre 50 e 59 anos</td>\n",
              "      <td>DICT</td>\n",
              "      <td>B2P</td>\n",
              "      <td>Pix</td>\n",
              "      <td>4398553782,39</td>\n",
              "      <td>3242867</td>\n",
              "    </tr>\n",
              "    <tr>\n",
              "      <th>4</th>\n",
              "      <td>202411</td>\n",
              "      <td>PF</td>\n",
              "      <td>PJ</td>\n",
              "      <td>NORTE</td>\n",
              "      <td>SUL</td>\n",
              "      <td>entre 40 e 49 anos</td>\n",
              "      <td>Nao se aplica</td>\n",
              "      <td>QRDN</td>\n",
              "      <td>P2G</td>\n",
              "      <td>Pix</td>\n",
              "      <td>366494,02</td>\n",
              "      <td>796</td>\n",
              "    </tr>\n",
              "    <tr>\n",
              "      <th>5</th>\n",
              "      <td>202411</td>\n",
              "      <td>PF</td>\n",
              "      <td>PJ</td>\n",
              "      <td>SUL</td>\n",
              "      <td>CENTRO-OESTE</td>\n",
              "      <td>entre 50 e 59 anos</td>\n",
              "      <td>Nao se aplica</td>\n",
              "      <td>QRES</td>\n",
              "      <td>P2G</td>\n",
              "      <td>Pix</td>\n",
              "      <td>7374,1</td>\n",
              "      <td>92</td>\n",
              "    </tr>\n",
              "    <tr>\n",
              "      <th>6</th>\n",
              "      <td>202411</td>\n",
              "      <td>PF</td>\n",
              "      <td>PF</td>\n",
              "      <td>SUL</td>\n",
              "      <td>NORTE</td>\n",
              "      <td>até 19 anos</td>\n",
              "      <td>entre 30 e 39 anos</td>\n",
              "      <td>QRES</td>\n",
              "      <td>P2P</td>\n",
              "      <td>Pix</td>\n",
              "      <td>126822,58</td>\n",
              "      <td>5720</td>\n",
              "    </tr>\n",
              "    <tr>\n",
              "      <th>7</th>\n",
              "      <td>202411</td>\n",
              "      <td>PF</td>\n",
              "      <td>PF</td>\n",
              "      <td>SUDESTE</td>\n",
              "      <td>Nao informado</td>\n",
              "      <td>entre 20 e 29 anos</td>\n",
              "      <td>até 19 anos</td>\n",
              "      <td>QRES</td>\n",
              "      <td>P2P</td>\n",
              "      <td>Pix</td>\n",
              "      <td>3790,95</td>\n",
              "      <td>57</td>\n",
              "    </tr>\n",
              "    <tr>\n",
              "      <th>8</th>\n",
              "      <td>202411</td>\n",
              "      <td>PF</td>\n",
              "      <td>PF</td>\n",
              "      <td>CENTRO-OESTE</td>\n",
              "      <td>SUDESTE</td>\n",
              "      <td>mais de 60 anos</td>\n",
              "      <td>mais de 60 anos</td>\n",
              "      <td>QRDN</td>\n",
              "      <td>P2P</td>\n",
              "      <td>Pix</td>\n",
              "      <td>69036,47</td>\n",
              "      <td>1270</td>\n",
              "    </tr>\n",
              "    <tr>\n",
              "      <th>9</th>\n",
              "      <td>202411</td>\n",
              "      <td>PF</td>\n",
              "      <td>PJ</td>\n",
              "      <td>NORDESTE</td>\n",
              "      <td>NORDESTE</td>\n",
              "      <td>entre 20 e 29 anos</td>\n",
              "      <td>Nao se aplica</td>\n",
              "      <td>MANU</td>\n",
              "      <td>P2G</td>\n",
              "      <td>Pix</td>\n",
              "      <td>182825,26</td>\n",
              "      <td>457</td>\n",
              "    </tr>\n",
              "  </tbody>\n",
              "</table>\n",
              "</div>"
            ],
            "text/plain": [
              "   AnoMes PAG_PFPJ REC_PFPJ    PAG_REGIAO     REC_REGIAO           PAG_IDADE  \\\n",
              "0  202411       PF       PJ      NORDESTE          NORTE  entre 30 e 39 anos   \n",
              "1  202411       PF       PF      NORDESTE        SUDESTE  entre 50 e 59 anos   \n",
              "2  202411       PF       PJ       SUDESTE            SUL     mais de 60 anos   \n",
              "3  202411       PJ       PF           SUL            SUL       Nao se aplica   \n",
              "4  202411       PF       PJ         NORTE            SUL  entre 40 e 49 anos   \n",
              "5  202411       PF       PJ           SUL   CENTRO-OESTE  entre 50 e 59 anos   \n",
              "6  202411       PF       PF           SUL          NORTE         até 19 anos   \n",
              "7  202411       PF       PF       SUDESTE  Nao informado  entre 20 e 29 anos   \n",
              "8  202411       PF       PF  CENTRO-OESTE        SUDESTE     mais de 60 anos   \n",
              "9  202411       PF       PJ      NORDESTE       NORDESTE  entre 20 e 29 anos   \n",
              "\n",
              "            REC_IDADE FORMAINICIACAO NATUREZA FINALIDADE          VALOR  \\\n",
              "0       Nao se aplica           MANU      P2G        Pix       31488,37   \n",
              "1  entre 40 e 49 anos           MANU      P2P        Pix    17702192,83   \n",
              "2       Nao se aplica           DICT      P2G        Pix       21802,41   \n",
              "3  entre 50 e 59 anos           DICT      B2P        Pix  4398553782,39   \n",
              "4       Nao se aplica           QRDN      P2G        Pix      366494,02   \n",
              "5       Nao se aplica           QRES      P2G        Pix         7374,1   \n",
              "6  entre 30 e 39 anos           QRES      P2P        Pix      126822,58   \n",
              "7         até 19 anos           QRES      P2P        Pix        3790,95   \n",
              "8     mais de 60 anos           QRDN      P2P        Pix       69036,47   \n",
              "9       Nao se aplica           MANU      P2G        Pix      182825,26   \n",
              "\n",
              "   QUANTIDADE  \n",
              "0           5  \n",
              "1       93119  \n",
              "2          39  \n",
              "3     3242867  \n",
              "4         796  \n",
              "5          92  \n",
              "6        5720  \n",
              "7          57  \n",
              "8        1270  \n",
              "9         457  "
            ]
          },
          "execution_count": 7,
          "metadata": {},
          "output_type": "execute_result"
        }
      ],
      "source": [
        "df.head(10)"
      ]
    },
    {
      "cell_type": "code",
      "execution_count": 8,
      "metadata": {
        "colab": {
          "base_uri": "https://localhost:8080/"
        },
        "id": "teWwL1rw1W5Y",
        "outputId": "8617ad1d-6928-4409-b70f-d4bbefb19ffc"
      },
      "outputs": [
        {
          "data": {
            "text/plain": [
              "11415"
            ]
          },
          "execution_count": 8,
          "metadata": {},
          "output_type": "execute_result"
        }
      ],
      "source": [
        "# Create table estatisticas_pix and send data from pandas dataframe into table\n",
        "\n",
        "df.to_sql(\"estatisticas_pix\", conn, if_exists=\"replace\")"
      ]
    },
    {
      "cell_type": "code",
      "execution_count": 9,
      "metadata": {
        "colab": {
          "base_uri": "https://localhost:8080/",
          "height": 557
        },
        "id": "R0652xzHJ6Wg",
        "outputId": "fe513208-ac8a-4f0b-cc99-7639fab182fb"
      },
      "outputs": [
        {
          "data": {
            "text/html": [
              "<div>\n",
              "<style scoped>\n",
              "    .dataframe tbody tr th:only-of-type {\n",
              "        vertical-align: middle;\n",
              "    }\n",
              "\n",
              "    .dataframe tbody tr th {\n",
              "        vertical-align: top;\n",
              "    }\n",
              "\n",
              "    .dataframe thead th {\n",
              "        text-align: right;\n",
              "    }\n",
              "</style>\n",
              "<table border=\"1\" class=\"dataframe\">\n",
              "  <thead>\n",
              "    <tr style=\"text-align: right;\">\n",
              "      <th></th>\n",
              "      <th>index</th>\n",
              "      <th>AnoMes</th>\n",
              "      <th>PAG_PFPJ</th>\n",
              "      <th>REC_PFPJ</th>\n",
              "      <th>PAG_REGIAO</th>\n",
              "      <th>REC_REGIAO</th>\n",
              "      <th>PAG_IDADE</th>\n",
              "      <th>REC_IDADE</th>\n",
              "      <th>FORMAINICIACAO</th>\n",
              "      <th>NATUREZA</th>\n",
              "      <th>FINALIDADE</th>\n",
              "      <th>VALOR</th>\n",
              "      <th>QUANTIDADE</th>\n",
              "    </tr>\n",
              "  </thead>\n",
              "  <tbody>\n",
              "    <tr>\n",
              "      <th>0</th>\n",
              "      <td>0</td>\n",
              "      <td>202411</td>\n",
              "      <td>PF</td>\n",
              "      <td>PJ</td>\n",
              "      <td>NORDESTE</td>\n",
              "      <td>NORTE</td>\n",
              "      <td>entre 30 e 39 anos</td>\n",
              "      <td>Nao se aplica</td>\n",
              "      <td>MANU</td>\n",
              "      <td>P2G</td>\n",
              "      <td>Pix</td>\n",
              "      <td>31488,37</td>\n",
              "      <td>5</td>\n",
              "    </tr>\n",
              "    <tr>\n",
              "      <th>1</th>\n",
              "      <td>1</td>\n",
              "      <td>202411</td>\n",
              "      <td>PF</td>\n",
              "      <td>PF</td>\n",
              "      <td>NORDESTE</td>\n",
              "      <td>SUDESTE</td>\n",
              "      <td>entre 50 e 59 anos</td>\n",
              "      <td>entre 40 e 49 anos</td>\n",
              "      <td>MANU</td>\n",
              "      <td>P2P</td>\n",
              "      <td>Pix</td>\n",
              "      <td>17702192,83</td>\n",
              "      <td>93119</td>\n",
              "    </tr>\n",
              "    <tr>\n",
              "      <th>2</th>\n",
              "      <td>2</td>\n",
              "      <td>202411</td>\n",
              "      <td>PF</td>\n",
              "      <td>PJ</td>\n",
              "      <td>SUDESTE</td>\n",
              "      <td>SUL</td>\n",
              "      <td>mais de 60 anos</td>\n",
              "      <td>Nao se aplica</td>\n",
              "      <td>DICT</td>\n",
              "      <td>P2G</td>\n",
              "      <td>Pix</td>\n",
              "      <td>21802,41</td>\n",
              "      <td>39</td>\n",
              "    </tr>\n",
              "    <tr>\n",
              "      <th>3</th>\n",
              "      <td>3</td>\n",
              "      <td>202411</td>\n",
              "      <td>PJ</td>\n",
              "      <td>PF</td>\n",
              "      <td>SUL</td>\n",
              "      <td>SUL</td>\n",
              "      <td>Nao se aplica</td>\n",
              "      <td>entre 50 e 59 anos</td>\n",
              "      <td>DICT</td>\n",
              "      <td>B2P</td>\n",
              "      <td>Pix</td>\n",
              "      <td>4398553782,39</td>\n",
              "      <td>3242867</td>\n",
              "    </tr>\n",
              "    <tr>\n",
              "      <th>4</th>\n",
              "      <td>4</td>\n",
              "      <td>202411</td>\n",
              "      <td>PF</td>\n",
              "      <td>PJ</td>\n",
              "      <td>NORTE</td>\n",
              "      <td>SUL</td>\n",
              "      <td>entre 40 e 49 anos</td>\n",
              "      <td>Nao se aplica</td>\n",
              "      <td>QRDN</td>\n",
              "      <td>P2G</td>\n",
              "      <td>Pix</td>\n",
              "      <td>366494,02</td>\n",
              "      <td>796</td>\n",
              "    </tr>\n",
              "    <tr>\n",
              "      <th>5</th>\n",
              "      <td>5</td>\n",
              "      <td>202411</td>\n",
              "      <td>PF</td>\n",
              "      <td>PJ</td>\n",
              "      <td>SUL</td>\n",
              "      <td>CENTRO-OESTE</td>\n",
              "      <td>entre 50 e 59 anos</td>\n",
              "      <td>Nao se aplica</td>\n",
              "      <td>QRES</td>\n",
              "      <td>P2G</td>\n",
              "      <td>Pix</td>\n",
              "      <td>7374,1</td>\n",
              "      <td>92</td>\n",
              "    </tr>\n",
              "    <tr>\n",
              "      <th>6</th>\n",
              "      <td>6</td>\n",
              "      <td>202411</td>\n",
              "      <td>PF</td>\n",
              "      <td>PF</td>\n",
              "      <td>SUL</td>\n",
              "      <td>NORTE</td>\n",
              "      <td>até 19 anos</td>\n",
              "      <td>entre 30 e 39 anos</td>\n",
              "      <td>QRES</td>\n",
              "      <td>P2P</td>\n",
              "      <td>Pix</td>\n",
              "      <td>126822,58</td>\n",
              "      <td>5720</td>\n",
              "    </tr>\n",
              "    <tr>\n",
              "      <th>7</th>\n",
              "      <td>7</td>\n",
              "      <td>202411</td>\n",
              "      <td>PF</td>\n",
              "      <td>PF</td>\n",
              "      <td>SUDESTE</td>\n",
              "      <td>Nao informado</td>\n",
              "      <td>entre 20 e 29 anos</td>\n",
              "      <td>até 19 anos</td>\n",
              "      <td>QRES</td>\n",
              "      <td>P2P</td>\n",
              "      <td>Pix</td>\n",
              "      <td>3790,95</td>\n",
              "      <td>57</td>\n",
              "    </tr>\n",
              "    <tr>\n",
              "      <th>8</th>\n",
              "      <td>8</td>\n",
              "      <td>202411</td>\n",
              "      <td>PF</td>\n",
              "      <td>PF</td>\n",
              "      <td>CENTRO-OESTE</td>\n",
              "      <td>SUDESTE</td>\n",
              "      <td>mais de 60 anos</td>\n",
              "      <td>mais de 60 anos</td>\n",
              "      <td>QRDN</td>\n",
              "      <td>P2P</td>\n",
              "      <td>Pix</td>\n",
              "      <td>69036,47</td>\n",
              "      <td>1270</td>\n",
              "    </tr>\n",
              "    <tr>\n",
              "      <th>9</th>\n",
              "      <td>9</td>\n",
              "      <td>202411</td>\n",
              "      <td>PF</td>\n",
              "      <td>PJ</td>\n",
              "      <td>NORDESTE</td>\n",
              "      <td>NORDESTE</td>\n",
              "      <td>entre 20 e 29 anos</td>\n",
              "      <td>Nao se aplica</td>\n",
              "      <td>MANU</td>\n",
              "      <td>P2G</td>\n",
              "      <td>Pix</td>\n",
              "      <td>182825,26</td>\n",
              "      <td>457</td>\n",
              "    </tr>\n",
              "  </tbody>\n",
              "</table>\n",
              "</div>"
            ],
            "text/plain": [
              "   index  AnoMes PAG_PFPJ REC_PFPJ    PAG_REGIAO     REC_REGIAO  \\\n",
              "0      0  202411       PF       PJ      NORDESTE          NORTE   \n",
              "1      1  202411       PF       PF      NORDESTE        SUDESTE   \n",
              "2      2  202411       PF       PJ       SUDESTE            SUL   \n",
              "3      3  202411       PJ       PF           SUL            SUL   \n",
              "4      4  202411       PF       PJ         NORTE            SUL   \n",
              "5      5  202411       PF       PJ           SUL   CENTRO-OESTE   \n",
              "6      6  202411       PF       PF           SUL          NORTE   \n",
              "7      7  202411       PF       PF       SUDESTE  Nao informado   \n",
              "8      8  202411       PF       PF  CENTRO-OESTE        SUDESTE   \n",
              "9      9  202411       PF       PJ      NORDESTE       NORDESTE   \n",
              "\n",
              "            PAG_IDADE           REC_IDADE FORMAINICIACAO NATUREZA FINALIDADE  \\\n",
              "0  entre 30 e 39 anos       Nao se aplica           MANU      P2G        Pix   \n",
              "1  entre 50 e 59 anos  entre 40 e 49 anos           MANU      P2P        Pix   \n",
              "2     mais de 60 anos       Nao se aplica           DICT      P2G        Pix   \n",
              "3       Nao se aplica  entre 50 e 59 anos           DICT      B2P        Pix   \n",
              "4  entre 40 e 49 anos       Nao se aplica           QRDN      P2G        Pix   \n",
              "5  entre 50 e 59 anos       Nao se aplica           QRES      P2G        Pix   \n",
              "6         até 19 anos  entre 30 e 39 anos           QRES      P2P        Pix   \n",
              "7  entre 20 e 29 anos         até 19 anos           QRES      P2P        Pix   \n",
              "8     mais de 60 anos     mais de 60 anos           QRDN      P2P        Pix   \n",
              "9  entre 20 e 29 anos       Nao se aplica           MANU      P2G        Pix   \n",
              "\n",
              "           VALOR  QUANTIDADE  \n",
              "0       31488,37           5  \n",
              "1    17702192,83       93119  \n",
              "2       21802,41          39  \n",
              "3  4398553782,39     3242867  \n",
              "4      366494,02         796  \n",
              "5         7374,1          92  \n",
              "6      126822,58        5720  \n",
              "7        3790,95          57  \n",
              "8       69036,47        1270  \n",
              "9      182825,26         457  "
            ]
          },
          "execution_count": 9,
          "metadata": {},
          "output_type": "execute_result"
        }
      ],
      "source": [
        "# bank access test with query pandas\n",
        "\n",
        "df_db = pd.read_sql('SELECT * FROM estatisticas_pix', conn)\n",
        "df_db.head(10)"
      ]
    },
    {
      "cell_type": "code",
      "execution_count": 10,
      "metadata": {
        "colab": {
          "base_uri": "https://localhost:8080/",
          "height": 209
        },
        "id": "y4zjCc0NrAfm",
        "outputId": "512d02d0-cad1-4049-f27a-150ff013b36b"
      },
      "outputs": [
        {
          "name": "stdout",
          "output_type": "stream",
          "text": [
            "sqlite\n",
            "['estatisticas_pix']\n"
          ]
        },
        {
          "data": {
            "text/plain": [
              "\"[(0, 202411, 'PF', 'PJ', 'NORDESTE', 'NORTE', 'entre 30 e 39 anos', 'Nao se aplica', 'MANU', 'P2G', 'Pix', '31488,37', 5), (1, 202411, 'PF', 'PF', 'NORDESTE', 'SUDESTE', 'entre 50 e 59 anos', 'entre 40 e 49 anos', 'MANU', 'P2P', 'Pix', '17702192,83', 93119), (2, 202411, 'PF', 'PJ', 'SUDESTE', 'SUL', 'mais de 60 anos', 'Nao se aplica', 'DICT', 'P2G', 'Pix', '21802,41', 39), (3, 202411, 'PJ', 'PF', 'SUL', 'SUL', 'Nao se aplica', 'entre 50 e 59 anos', 'DICT', 'B2P', 'Pix', '4398553782,39', 3242867), (4, 202411, 'PF', 'PJ', 'NORTE', 'SUL', 'entre 40 e 49 anos', 'Nao se aplica', 'QRDN', 'P2G', 'Pix', '366494,02', 796), (5, 202411, 'PF', 'PJ', 'SUL', 'CENTRO-OESTE', 'entre 50 e 59 anos', 'Nao se aplica', 'QRES', 'P2G', 'Pix', '7374,1', 92), (6, 202411, 'PF', 'PF', 'SUL', 'NORTE', 'até 19 anos', 'entre 30 e 39 anos', 'QRES', 'P2P', 'Pix', '126822,58', 5720), (7, 202411, 'PF', 'PF', 'SUDESTE', 'Nao informado', 'entre 20 e 29 anos', 'até 19 anos', 'QRES', 'P2P', 'Pix', '3790,95', 57), (8, 202411, 'PF', 'PF', 'CENTRO-OESTE', 'SUDESTE', 'mais de 60 anos', 'mais de 60 anos', 'QRDN', 'P2P', 'Pix', '69036,47', 1270), (9, 202411, 'PF', 'PJ', 'NORDESTE', 'NORDESTE', 'entre 20 e 29 anos', 'Nao se aplica', 'MANU', 'P2G', 'Pix', '182825,26', 457)]\""
            ]
          },
          "execution_count": 10,
          "metadata": {},
          "output_type": "execute_result"
        }
      ],
      "source": [
        "# Creating varaible db and bank access test\n",
        "\n",
        "db = SQLDatabase.from_uri(\"sqlite:///estatisticas_pix.db\")\n",
        "\n",
        "print(db.dialect)\n",
        "print(db.get_usable_table_names())\n",
        "db.run(\"SELECT * FROM estatisticas_pix LIMIT 10;\")"
      ]
    },
    {
      "cell_type": "code",
      "execution_count": 11,
      "metadata": {
        "colab": {
          "base_uri": "https://localhost:8080/"
        },
        "id": "kf_8uGR94k5v",
        "outputId": "8a6fd9e3-8426-4a4a-8bc0-3ecd1db10eee"
      },
      "outputs": [
        {
          "name": "stdout",
          "output_type": "stream",
          "text": [
            "NAME               ID              SIZE      MODIFIED       \n",
            "llama3.1:latest    46e0c10c039e    4.9 GB    44 minutes ago    \n"
          ]
        }
      ],
      "source": [
        "# Check installation ollama 3.2\n",
        "\n",
        "!ollama list"
      ]
    },
    {
      "cell_type": "code",
      "execution_count": 12,
      "metadata": {
        "id": "NlPNSOLFsNCq"
      },
      "outputs": [],
      "source": [
        "# Initialize the OllamaLLM\n",
        "\n",
        "model_Ollama = OllamaLLM(\n",
        "    model='llama3.1',  # Specify the model version\n",
        "    base_url='http://localhost:11434',  # URL where Ollama is running locally\n",
        "    temperature=0.7  # Control the randomness of the output (0.0 to 1.0)\n",
        ")"
      ]
    },
    {
      "cell_type": "code",
      "execution_count": 13,
      "metadata": {},
      "outputs": [],
      "source": [
        "# Creating template to prompt\n",
        "\n",
        "query_prompt_template = PromptTemplate(\n",
        "    input_variables=[\"dialect\", \"top_k\", \"table_info\", \"input\", \"base_description\", \"column_description\"],\n",
        "    template=(\n",
        "        \"Você é um assistente especializado em traduzir perguntas feitas em linguagem natural em query SQL.\\n\\n\"\n",
        "        \"Informações do banco de dados:\\n\"\n",
        "        \"- Descrição da base de dados: {base_description}\\n\"\n",
        "        \"- Idioma da base de dados: Português\\n\"\n",
        "        \"- Dialeto SQL: {dialect}\\n\\n\"\n",
        "        \"Estrutura e descrição das tabelas no banco:\\n{table_info}\\n\\n\"\n",
        "        \"Descrição completa das colunas:\\n{column_description}\\n\\n\"\n",
        "        \"Pergunta do usuário (em português): {input}\\n\\n\"\n",
        "        \"A coluna valor está em reais\\n\\n\"\n",
        "        \"Gere apenas a consulta SQL correspondente\\n\\n\"\n",
        "        \"Abaixo estão alguns exemplos de perguntas e as respectivas queries SQL:\\n\"\n",
        "        \"- pergunta: Qual foi o volume financeiro total das transações Pix na região Sudeste?\\n\"\n",
        "        \"- query: SELECT REC_REGIAO AS Regiao_Recebedor, SUM(VALOR) AS Volume_Financeiro_Total FROM transacoes_pix WHERE REC_REGIAO = 'Sudeste' GROUP BY REC_REGIAO;\\n\"\n",
        "        \"- pergunta: Quantas transações Pix foram realizadas por pessoas físicas?\\n\"\n",
        "        \"- query: SELECT PAG_PFPJ AS Tipo_Pessoa_Pagador, SUM(QUANTIDADE) AS Quantidade_Transacoes FROM transacoes_pix WHERE PAG_PFPJ = 'Física' GROUP BY PAG_PFPJ;\\n\"\n",
        "        \"- pergunta: Qual foi o valor médio das transações realizadas por pagadores com idade entre 30 e 40 anos?\\n\"\n",
        "        \"- query: SELECT PAG_IDADE AS Idade_Pagador, AVG(VALOR) AS Valor_Medio_Transacoes FROM transacoes_pix WHERE PAG_IDADE BETWEEN 30 AND 40 GROUP BY PAG_IDADE;\\n\"\n",
        "        \"- pergunta: Qual foi a finalidade mais comum das transações?\\n\"\n",
        "        \"- query: SELECT FINALIDADE AS Finalidade_Transacao, COUNT(*) AS Ocorrencias FROM transacoes_pix GROUP BY FINALIDADE ORDER BY Ocorrencias DESC LIMIT 1;\\n\\n\"\n",
        "    ),\n",
        ")"
      ]
    },
    {
      "cell_type": "code",
      "execution_count": 14,
      "metadata": {},
      "outputs": [
        {
          "name": "stdout",
          "output_type": "stream",
          "text": [
            "Você é um assistente especializado em traduzir perguntas feitas em linguagem natural em query SQL.\n",
            "\n",
            "Informações do banco de dados:\n",
            "- Descrição da base de dados: \u001b[33;1m\u001b[1;3m{base_description}\u001b[0m\n",
            "- Idioma da base de dados: Português\n",
            "- Dialeto SQL: \u001b[33;1m\u001b[1;3m{dialect}\u001b[0m\n",
            "\n",
            "Estrutura e descrição das tabelas no banco:\n",
            "\u001b[33;1m\u001b[1;3m{table_info}\u001b[0m\n",
            "\n",
            "Descrição completa das colunas:\n",
            "\u001b[33;1m\u001b[1;3m{column_description}\u001b[0m\n",
            "\n",
            "Pergunta do usuário (em português): \u001b[33;1m\u001b[1;3m{input}\u001b[0m\n",
            "\n",
            "A coluna valor está em reais\n",
            "\n",
            "Gere apenas a consulta SQL correspondente\n",
            "\n",
            "Abaixo estão alguns exemplos de perguntas e as respectivas queries SQL:\n",
            "- pergunta: Qual foi o volume financeiro total das transações Pix na região Sudeste?\n",
            "- query: SELECT REC_REGIAO AS Regiao_Recebedor, SUM(VALOR) AS Volume_Financeiro_Total FROM transacoes_pix WHERE REC_REGIAO = 'Sudeste' GROUP BY REC_REGIAO;\n",
            "- pergunta: Quantas transações Pix foram realizadas por pessoas físicas?\n",
            "- query: SELECT PAG_PFPJ AS Tipo_Pessoa_Pagador, SUM(QUANTIDADE) AS Quantidade_Transacoes FROM transacoes_pix WHERE PAG_PFPJ = 'Física' GROUP BY PAG_PFPJ;\n",
            "- pergunta: Qual foi o valor médio das transações realizadas por pagadores com idade entre 30 e 40 anos?\n",
            "- query: SELECT PAG_IDADE AS Idade_Pagador, AVG(VALOR) AS Valor_Medio_Transacoes FROM transacoes_pix WHERE PAG_IDADE BETWEEN 30 AND 40 GROUP BY PAG_IDADE;\n",
            "- pergunta: Qual foi a finalidade mais comum das transações?\n",
            "- query: SELECT FINALIDADE AS Finalidade_Transacao, COUNT(*) AS Ocorrencias FROM transacoes_pix GROUP BY FINALIDADE ORDER BY Ocorrencias DESC LIMIT 1;\n",
            "\n",
            "\n"
          ]
        }
      ],
      "source": [
        "query_prompt_template.pretty_print()"
      ]
    },
    {
      "cell_type": "code",
      "execution_count": 15,
      "metadata": {},
      "outputs": [],
      "source": [
        "# Creating base class to generate the structure and types of objects\n",
        "\n",
        "class State(TypedDict):\n",
        "    question: str\n",
        "    query: str\n",
        "    result: str\n",
        "    answer: str"
      ]
    },
    {
      "cell_type": "code",
      "execution_count": 16,
      "metadata": {},
      "outputs": [],
      "source": [
        "# Function to generate SQL query to fetch information\n",
        "\n",
        "def write_query(state: State):\n",
        "\n",
        "    base_description = \"Base de dados contendo transações Pix, incluindo volume financeiro, quantidade e detalhes regionais.\"\n",
        "    column_description = (\n",
        "        \"AnoMes: Data-base no formato ano/mês.\\n\"\n",
        "        \"PAG_PFPJ: Tipo de pessoa do pagador (Física ou Jurídica).\\n\"\n",
        "        \"REC_PFPJ: Tipo de pessoa do recebedor (Física ou Jurídica).\\n\"\n",
        "        \"PAG_REGIAO: Região do pagador.\\n\"\n",
        "        \"REC_REGIAO: Região do recebedor.\\n\"\n",
        "        \"PAG_IDADE: Idade do pagador.\\n\"\n",
        "        \"REC_IDADE: Idade do recebedor.\\n\"\n",
        "        \"FORMAINICIACAO: Forma de iniciação da transação.\\n\"\n",
        "        \"NATUREZA: Natureza da transação.\\n\"\n",
        "        \"FINALIDADE: Finalidade da transação.\\n\"\n",
        "        \"VALOR: Valor das transações Pix.\\n\"\n",
        "        \"QUANTIDADE: Quantidade total de transações Pix.\\n\"\n",
        "    )\n",
        "\n",
        "    prompt = query_prompt_template.format(\n",
        "        dialect=db.dialect,\n",
        "        top_k=10,\n",
        "        table_info=db.get_table_info(),\n",
        "        input=state[\"question\"],\n",
        "        base_description=base_description,\n",
        "        column_description=column_description,\n",
        "    )\n",
        "\n",
        "    query = model_Ollama.invoke(prompt)\n",
        "    print(f\"Consulta SQL: {query}\")\n",
        "    state[\"query\"] = query\n",
        "    \n",
        "    return state"
      ]
    },
    {
      "cell_type": "code",
      "execution_count": 17,
      "metadata": {},
      "outputs": [],
      "source": [
        "# Function to Execute SQL query\n",
        "\n",
        "def execute_query(state: State): \n",
        "\n",
        "    execute_query_tool = QuerySQLDatabaseTool(db=db)\n",
        "    result = execute_query_tool.invoke(state[\"query\"])\n",
        "    print(f\"Resuldado SQL: {result}\")\n",
        "    state[\"result\"] = result\n",
        "    \n",
        "    return state"
      ]
    },
    {
      "cell_type": "code",
      "execution_count": 18,
      "metadata": {},
      "outputs": [],
      "source": [
        "# Function to answer question using retrieved information\n",
        "\n",
        "def generate_answer(state: State):\n",
        "    \n",
        "    prompt = (\n",
        "        \"Dada a pergunta do usuário, a consulta SQL correspondente, \"\n",
        "        \"e o resultado da consulta SQL, responda à pergunta do usuário de forma clara e objetiva.\\n\\n\"\n",
        "        f'Pergunta: {state[\"question\"]}\\n'\n",
        "        f'Consulta SQL: {state[\"query\"]}\\n'\n",
        "        f'Resultado SQL: {state[\"result\"]}'\n",
        "    )\n",
        "    answer = model_Ollama.invoke(prompt)\n",
        "    print(f\"answer: {answer}\")\n",
        "    state[\"answer\"] = answer\n",
        "\n",
        "    return state"
      ]
    },
    {
      "cell_type": "code",
      "execution_count": 19,
      "metadata": {},
      "outputs": [
        {
          "name": "stdout",
          "output_type": "stream",
          "text": [
            "\n",
            "Gerando a query a partir do texto\n",
            "Consulta SQL: SELECT SUM(QUANTIDADE) FROM estatisticas_pix WHERE PAG_REGIAO = 'NORTE' AND REC_REGIAO = 'SUL';\n",
            "\n",
            "Executando a query\n",
            "Resuldado SQL: [(18170096,)]\n",
            "\n",
            "Gerando resposta para a pergunta em linguagem natural\n",
            "answer: A pergunta do usuário é sobre a quantidade de transações Pix realizadas entre a região Norte e Sul.\n",
            "\n",
            "A consulta SQL corresponde à essa pergunta, pois está buscando somar a quantidade de transações Pix onde o remetente está na região Norte (PAG_REGIAO = 'NORTE') e o receptor está na região Sul (REC_REGIAO = 'SUL').\n",
            "\n",
            "E o resultado da consulta SQL é 18170096, o que significa que houve essa quantidade de transações Pix entre a região Norte e Sul.\n",
            "\n",
            "Portanto, a resposta à pergunta do usuário é: **Foram realizadas 18.170.096 transações Pix entre a região Norte e Sul.**\n"
          ]
        },
        {
          "data": {
            "text/plain": [
              "{'question': 'Qual a quantidade de transações pix foi realizado entre a região norte e sul?',\n",
              " 'query': \"SELECT SUM(QUANTIDADE) FROM estatisticas_pix WHERE PAG_REGIAO = 'NORTE' AND REC_REGIAO = 'SUL';\",\n",
              " 'result': '[(18170096,)]',\n",
              " 'answer': \"A pergunta do usuário é sobre a quantidade de transações Pix realizadas entre a região Norte e Sul.\\n\\nA consulta SQL corresponde à essa pergunta, pois está buscando somar a quantidade de transações Pix onde o remetente está na região Norte (PAG_REGIAO = 'NORTE') e o receptor está na região Sul (REC_REGIAO = 'SUL').\\n\\nE o resultado da consulta SQL é 18170096, o que significa que houve essa quantidade de transações Pix entre a região Norte e Sul.\\n\\nPortanto, a resposta à pergunta do usuário é: **Foram realizadas 18.170.096 transações Pix entre a região Norte e Sul.**\"}"
            ]
          },
          "execution_count": 19,
          "metadata": {},
          "output_type": "execute_result"
        }
      ],
      "source": [
        "# Send ask\n",
        "\n",
        "#ask = \"Qual o valor total de transações pix foi recebido pelo nordeste?\"\n",
        "#ask = \"Qual valor total foi enviado da região sul para a região norte?\"\n",
        "ask = \"Qual a quantidade de transações pix foi realizado entre a região norte e sul?\"\n",
        "#ask = \"Quantas transações pix foram feitas da região nordeste por pessoas entre 30 e 59 anos para região norte que ultrapassaram 100 mil reais?\"\n",
        "\n",
        "state = State(\n",
        "  question=ask,\n",
        "  query=\"\",\n",
        "  result=\"\",\n",
        "  answer=\"\"\n",
        ")\n",
        "\n",
        "print()\n",
        "print(\"Gerando a query a partir do texto\")\n",
        "write_query(state)\n",
        "\n",
        "print()\n",
        "print(\"Executando a query\")\n",
        "execute_query(state)\n",
        "\n",
        "print()\n",
        "print(\"Gerando resposta para a pergunta em linguagem natural\")\n",
        "generate_answer(state)\n"
      ]
    }
  ],
  "metadata": {
    "accelerator": "GPU",
    "colab": {
      "gpuType": "T4",
      "provenance": []
    },
    "kernelspec": {
      "display_name": "Python 3",
      "name": "python3"
    },
    "language_info": {
      "codemirror_mode": {
        "name": "ipython",
        "version": 3
      },
      "file_extension": ".py",
      "mimetype": "text/x-python",
      "name": "python",
      "nbconvert_exporter": "python",
      "pygments_lexer": "ipython3",
      "version": "3.10.2"
    }
  },
  "nbformat": 4,
  "nbformat_minor": 0
}
